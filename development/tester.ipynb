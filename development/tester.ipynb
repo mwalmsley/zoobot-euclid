{
 "cells": [
  {
   "cell_type": "code",
   "execution_count": 1,
   "metadata": {},
   "outputs": [],
   "source": [
    "%load_ext autoreload\n",
    "%autoreload 2"
   ]
  },
  {
   "cell_type": "code",
   "execution_count": 75,
   "metadata": {},
   "outputs": [],
   "source": [
    "import os\n",
    "from pathlib import Path\n",
    "\n",
    "import numpy as np\n",
    "import pandas as pd\n",
    "import matplotlib.pyplot as plt\n",
    "\n",
    "from tqdm import tqdm\n",
    "from skimage import draw\n",
    "from skimage.transform import resize\n",
    "import matplotlib\n",
    "matplotlib.rcParams.update({'font.size': 16})\n",
    "\n",
    "from euclid_morphology import cutouts\n",
    "\n",
    "\n",
    "def create_plots(image, seg, catalog, cutout_pixels=300, n_examples=30):\n",
    "    _, ax = plt.subplots(ncols=8, nrows=n_examples, figsize=(8 * 8, 8 * n_examples))\n",
    "\n",
    "    image = np.log10(1+image)\n",
    "\n",
    "    for i in tqdm(range(n_examples)):\n",
    "        galaxy = catalog.iloc[i]\n",
    "        ra = galaxy['RIGHT_ASCENSION']\n",
    "        dec = galaxy['DECLINATION']\n",
    "        # seg_id = galaxy['SEG_ID']\n",
    "        # params = cutouts.extract_params_by_source_index(catalog, np.random.randint(0, len(catalog)))\n",
    "        ref_seg = seg[int(dec) - 64: int(dec) + 64, int(ra) - 64: int(ra) + 64]\n",
    "        ref_img = image[int(dec) - 64: int(dec) + 64, int(ra) - 64: int(ra) + 64]\n",
    "        # seg_cutout = cutouts.get_cutout_from_seg_map(seg, image, seg_id)\n",
    "        seg_cutout = cutouts.get_cutout(image, galaxy)\n",
    "        # axes = params[['SEMIMAJOR_AXIS', 'SEMIMINOR_AXIS']].values\n",
    "        # rows, cols = draw.ellipse(r=ra, c=dec, r_radius=axes[0], c_radius=axes[1], shape=seg.shape)\n",
    "        # ellipse = np.zeros_like(seg)\n",
    "        # ellipse[cols, rows] = 1\n",
    "        # maj_cutout = cutouts.get_cutout_from_seg_map(ellipse, image, 1)\n",
    "        # rows, cols = draw.ellipse(r=ra, c=dec, r_radius=3 * axes[0], c_radius=3 * axes[1], shape=seg.shape)\n",
    "        # ellipse = np.zeros_like(seg)\n",
    "        # ellipse[cols, rows] = 1\n",
    "        # maj3_cutout = cutouts.get_cutout_from_seg_map(ellipse, image, 1)\n",
    "\n",
    "        seg_resized = resize(seg_cutout, output_shape=(cutout_pixels, cutout_pixels))\n",
    "        # maj_resized = resize(maj_cutout, output_shape=(cutout_pixels, cutout_pixels))\n",
    "        # maj3_resized = resize(maj3_cutout, output_shape=(cutout_pixels, cutout_pixels))\n",
    "\n",
    "        ax[i, 0].imshow(ref_img, origin='lower', cmap='viridis')\n",
    "        if i == 0:\n",
    "            ax[i, 0].set_title('Reference Image Cutouts')\n",
    "        ax[i, 1].imshow(ref_seg, origin='lower', cmap='viridis')\n",
    "        if i == 0:\n",
    "            ax[i, 1].set_title('Reference Segmentation Cutout')\n",
    "        ax[i, 2].imshow(seg_cutout, origin='lower', cmap='viridis')\n",
    "        if i == 0:\n",
    "            ax[i, 2].set_title('Segmentation Derived Cutouts')\n",
    "        # ax[i, 3].imshow(maj_cutout, origin='lower', cmap='viridis')\n",
    "        # if i == 0:\n",
    "        #     ax[i, 3].set_title('Major Axis Derived Cutouts')\n",
    "        # ax[i, 4].imshow(maj3_cutout, origin='lower', cmap='viridis')\n",
    "        if i == 0:\n",
    "            ax[i, 4].set_title('3x Major Axis Derived Cutouts')\n",
    "        ax[i, 5].imshow(seg_resized, origin='lower', cmap='viridis')\n",
    "        if i == 0:\n",
    "            ax[i, 5].set_title('Segmentation Derived Cutouts Resized')\n",
    "        # ax[i, 6].imshow(maj_resized, origin='lower', cmap='viridis')\n",
    "        # if i == 0:\n",
    "        #     ax[i, 6].set_title('Major Axis Derived Cutouts Resized')\n",
    "        # ax[i, 7].imshow(maj3_resized, origin='lower', cmap='viridis')\n",
    "        # if i == 0:\n",
    "        #     ax[i, 7].set_title('3x Major Axis Derived Cutouts Resized')\n",
    "    plt.tight_layout()\n",
    "    plt.show()\n",
    "\n"
   ]
  },
  {
   "cell_type": "code",
   "execution_count": 76,
   "metadata": {},
   "outputs": [],
   "source": [
    "repo_root = Path(os.path.dirname(os.getcwd()))\n",
    "data_dir = repo_root / 'data/example_tile'\n",
    "\n",
    "catalog_file = data_dir / 'EUC_MER_FINAL-CUTOUTS-CAT_TILE100158586-2F9FF9_20220829T221845.491503Z_00.00.fits'\n",
    "mosaic_file = data_dir / 'EUC_MER_BGSUB-MOSAIC-VIS_TILE100158586-863FA9_20220829T190315.054985Z_00.00.fits'\n",
    "segmentation_file = data_dir / 'EUC_MER_FINAL-SEGMAP_TILE100158586-CB5786_20220829T221845.491530Z_00.00.fits'\n"
   ]
  },
  {
   "cell_type": "code",
   "execution_count": 10,
   "metadata": {},
   "outputs": [
    {
     "name": "stderr",
     "output_type": "stream",
     "text": [
      "WARNING: VerifyWarning: Invalid keyword for column 2: Column null option (TNULLn) must be an integer for binary table columns (got -9.1191291391491e-36).  The invalid value will be ignored for the purpose of formatting the data in this column. [astropy.io.fits.column]\n",
      "WARNING: VerifyWarning: Invalid keyword for column 3: Column null option (TNULLn) must be an integer for binary table columns (got -9.1191291391491e-36).  The invalid value will be ignored for the purpose of formatting the data in this column. [astropy.io.fits.column]\n",
      "WARNING: VerifyWarning: Invalid keyword for column 4: Column null option (TNULLn) must be an integer for binary table columns (got -9.1191291391491e-36).  The invalid value will be ignored for the purpose of formatting the data in this column. [astropy.io.fits.column]\n",
      "WARNING: VerifyWarning: Invalid keyword for column 5: Column null option (TNULLn) must be an integer for binary table columns (got -9.1191291391491e-36).  The invalid value will be ignored for the purpose of formatting the data in this column. [astropy.io.fits.column]\n",
      "WARNING: VerifyWarning: Invalid keyword for column 6: Column null option (TNULLn) must be an integer for binary table columns (got -9.1191291391491e-36).  The invalid value will be ignored for the purpose of formatting the data in this column. [astropy.io.fits.column]\n",
      "WARNING: VerifyWarning: Invalid keyword for column 7: Column null option (TNULLn) must be an integer for binary table columns (got -9.1191291391491e-36).  The invalid value will be ignored for the purpose of formatting the data in this column. [astropy.io.fits.column]\n",
      "WARNING: VerifyWarning: Invalid keyword for column 8: Column null option (TNULLn) must be an integer for binary table columns (got -9.1191291391491e-36).  The invalid value will be ignored for the purpose of formatting the data in this column. [astropy.io.fits.column]\n",
      "WARNING: VerifyWarning: Invalid keyword for column 9: Column null option (TNULLn) must be an integer for binary table columns (got -9.1191291391491e-36).  The invalid value will be ignored for the purpose of formatting the data in this column. [astropy.io.fits.column]\n",
      "WARNING: VerifyWarning: Invalid keyword for column 10: Column null option (TNULLn) must be an integer for binary table columns (got -9.1191291391491e-36).  The invalid value will be ignored for the purpose of formatting the data in this column. [astropy.io.fits.column]\n",
      "WARNING: VerifyWarning: Invalid keyword for column 11: Column null option (TNULLn) must be an integer for binary table columns (got -9.1191291391491e-36).  The invalid value will be ignored for the purpose of formatting the data in this column. [astropy.io.fits.column]\n",
      "WARNING: VerifyWarning: Invalid keyword for column 12: Column null option (TNULLn) must be an integer for binary table columns (got -9.1191291391491e-36).  The invalid value will be ignored for the purpose of formatting the data in this column. [astropy.io.fits.column]\n",
      "WARNING: VerifyWarning: Invalid keyword for column 13: Column null option (TNULLn) must be an integer for binary table columns (got -9.1191291391491e-36).  The invalid value will be ignored for the purpose of formatting the data in this column. [astropy.io.fits.column]\n",
      "WARNING: VerifyWarning: Invalid keyword for column 14: Column null option (TNULLn) must be an integer for binary table columns (got -9.1191291391491e-36).  The invalid value will be ignored for the purpose of formatting the data in this column. [astropy.io.fits.column]\n"
     ]
    }
   ],
   "source": [
    "image, seg, catalog = cutouts.load_data_for_mosaic(catalog_file, segmentation_file, mosaic_file)"
   ]
  },
  {
   "cell_type": "code",
   "execution_count": 15,
   "metadata": {},
   "outputs": [
    {
     "data": {
      "text/plain": [
       "21529"
      ]
     },
     "execution_count": 15,
     "metadata": {},
     "output_type": "execute_result"
    }
   ],
   "source": [
    "len(catalog)"
   ]
  },
  {
   "cell_type": "code",
   "execution_count": 8,
   "metadata": {},
   "outputs": [],
   "source": [
    "source_index = 400"
   ]
  },
  {
   "cell_type": "code",
   "execution_count": 12,
   "metadata": {},
   "outputs": [],
   "source": [
    "cutout = cutouts.prepare_image(image, seg, catalog, source_index, mode='seg', m=1.5)"
   ]
  },
  {
   "cell_type": "code",
   "execution_count": 14,
   "metadata": {},
   "outputs": [],
   "source": [
    "cutout_maj = cutouts.prepare_image(image, seg, catalog, source_index, mode='maj', m=1.5)"
   ]
  },
  {
   "cell_type": "code",
   "execution_count": null,
   "metadata": {},
   "outputs": [],
   "source": [
    "plt.figure(figsize=(8, 8))\n",
    "plt.imshow(cutout[0, :, :, 0], origin='lower', cmap='viridis')\n",
    "plt.show()\n",
    "\n",
    "plt.figure(figsize=(8, 8))\n",
    "plt.imshow(cutout_maj[0, :, :, 0], origin='lower', cmap='viridis')\n",
    "plt.show()\n"
   ]
  },
  {
   "cell_type": "code",
   "execution_count": 20,
   "metadata": {},
   "outputs": [
    {
     "data": {
      "text/html": [
       "<div>\n",
       "<style scoped>\n",
       "    .dataframe tbody tr th:only-of-type {\n",
       "        vertical-align: middle;\n",
       "    }\n",
       "\n",
       "    .dataframe tbody tr th {\n",
       "        vertical-align: top;\n",
       "    }\n",
       "\n",
       "    .dataframe thead th {\n",
       "        text-align: right;\n",
       "    }\n",
       "</style>\n",
       "<table border=\"1\" class=\"dataframe\">\n",
       "  <thead>\n",
       "    <tr style=\"text-align: right;\">\n",
       "      <th></th>\n",
       "      <th>OBJECT_ID</th>\n",
       "      <th>RIGHT_ASCENSION</th>\n",
       "      <th>DECLINATION</th>\n",
       "      <th>CORNER_0_RA</th>\n",
       "      <th>CORNER_0_DEC</th>\n",
       "      <th>CORNER_1_RA</th>\n",
       "      <th>CORNER_1_DEC</th>\n",
       "      <th>CORNER_2_RA</th>\n",
       "      <th>CORNER_2_DEC</th>\n",
       "      <th>CORNER_3_RA</th>\n",
       "      <th>...</th>\n",
       "      <th>y</th>\n",
       "      <th>x0</th>\n",
       "      <th>y0</th>\n",
       "      <th>x1</th>\n",
       "      <th>y1</th>\n",
       "      <th>x2</th>\n",
       "      <th>y2</th>\n",
       "      <th>x3</th>\n",
       "      <th>y3</th>\n",
       "      <th>SEG_ID</th>\n",
       "    </tr>\n",
       "  </thead>\n",
       "  <tbody>\n",
       "    <tr>\n",
       "      <th>0</th>\n",
       "      <td>2700402647647493929</td>\n",
       "      <td>270.040265</td>\n",
       "      <td>64.749393</td>\n",
       "      <td>270.040636</td>\n",
       "      <td>64.749249</td>\n",
       "      <td>270.039913</td>\n",
       "      <td>64.749249</td>\n",
       "      <td>270.039913</td>\n",
       "      <td>64.749552</td>\n",
       "      <td>270.040636</td>\n",
       "      <td>...</td>\n",
       "      <td>616.238573</td>\n",
       "      <td>18321.0</td>\n",
       "      <td>611.0</td>\n",
       "      <td>18332.098056</td>\n",
       "      <td>611.099566</td>\n",
       "      <td>18332.0</td>\n",
       "      <td>622.0</td>\n",
       "      <td>18320.902068</td>\n",
       "      <td>621.900435</td>\n",
       "      <td>100158586000084</td>\n",
       "    </tr>\n",
       "    <tr>\n",
       "      <th>1</th>\n",
       "      <td>2700389245647500747</td>\n",
       "      <td>270.038925</td>\n",
       "      <td>64.750075</td>\n",
       "      <td>270.039253</td>\n",
       "      <td>64.749966</td>\n",
       "      <td>270.038531</td>\n",
       "      <td>64.749966</td>\n",
       "      <td>270.038531</td>\n",
       "      <td>64.750241</td>\n",
       "      <td>270.039253</td>\n",
       "      <td>...</td>\n",
       "      <td>640.969566</td>\n",
       "      <td>18342.0</td>\n",
       "      <td>637.0</td>\n",
       "      <td>18353.089276</td>\n",
       "      <td>637.099730</td>\n",
       "      <td>18353.0</td>\n",
       "      <td>647.0</td>\n",
       "      <td>18341.910838</td>\n",
       "      <td>646.900271</td>\n",
       "      <td>100158586000086</td>\n",
       "    </tr>\n",
       "    <tr>\n",
       "      <th>2</th>\n",
       "      <td>2700398979647521630</td>\n",
       "      <td>270.039898</td>\n",
       "      <td>64.752163</td>\n",
       "      <td>270.040187</td>\n",
       "      <td>64.752025</td>\n",
       "      <td>270.039530</td>\n",
       "      <td>64.752025</td>\n",
       "      <td>270.039530</td>\n",
       "      <td>64.752272</td>\n",
       "      <td>270.040187</td>\n",
       "      <td>...</td>\n",
       "      <td>716.011175</td>\n",
       "      <td>18327.0</td>\n",
       "      <td>711.0</td>\n",
       "      <td>18337.080200</td>\n",
       "      <td>711.090503</td>\n",
       "      <td>18337.0</td>\n",
       "      <td>720.0</td>\n",
       "      <td>18326.919892</td>\n",
       "      <td>719.909498</td>\n",
       "      <td>100158586000095</td>\n",
       "    </tr>\n",
       "    <tr>\n",
       "      <th>3</th>\n",
       "      <td>2700402039647523980</td>\n",
       "      <td>270.040204</td>\n",
       "      <td>64.752398</td>\n",
       "      <td>270.040968</td>\n",
       "      <td>64.752028</td>\n",
       "      <td>270.039326</td>\n",
       "      <td>64.752028</td>\n",
       "      <td>270.039326</td>\n",
       "      <td>64.752716</td>\n",
       "      <td>270.040968</td>\n",
       "      <td>...</td>\n",
       "      <td>724.429730</td>\n",
       "      <td>18315.0</td>\n",
       "      <td>711.0</td>\n",
       "      <td>18340.223085</td>\n",
       "      <td>711.226344</td>\n",
       "      <td>18340.0</td>\n",
       "      <td>736.0</td>\n",
       "      <td>18314.777559</td>\n",
       "      <td>735.773660</td>\n",
       "      <td>100158586000096</td>\n",
       "    </tr>\n",
       "    <tr>\n",
       "      <th>4</th>\n",
       "      <td>2700523924647527160</td>\n",
       "      <td>270.052392</td>\n",
       "      <td>64.752716</td>\n",
       "      <td>270.052548</td>\n",
       "      <td>64.752627</td>\n",
       "      <td>270.052219</td>\n",
       "      <td>64.752627</td>\n",
       "      <td>270.052219</td>\n",
       "      <td>64.752793</td>\n",
       "      <td>270.052548</td>\n",
       "      <td>...</td>\n",
       "      <td>734.216032</td>\n",
       "      <td>18137.0</td>\n",
       "      <td>731.0</td>\n",
       "      <td>18142.052415</td>\n",
       "      <td>731.044363</td>\n",
       "      <td>18142.0</td>\n",
       "      <td>737.0</td>\n",
       "      <td>18136.947616</td>\n",
       "      <td>736.955637</td>\n",
       "      <td>100158586000098</td>\n",
       "    </tr>\n",
       "    <tr>\n",
       "      <th>...</th>\n",
       "      <td>...</td>\n",
       "      <td>...</td>\n",
       "      <td>...</td>\n",
       "      <td>...</td>\n",
       "      <td>...</td>\n",
       "      <td>...</td>\n",
       "      <td>...</td>\n",
       "      <td>...</td>\n",
       "      <td>...</td>\n",
       "      <td>...</td>\n",
       "      <td>...</td>\n",
       "      <td>...</td>\n",
       "      <td>...</td>\n",
       "      <td>...</td>\n",
       "      <td>...</td>\n",
       "      <td>...</td>\n",
       "      <td>...</td>\n",
       "      <td>...</td>\n",
       "      <td>...</td>\n",
       "      <td>...</td>\n",
       "      <td>...</td>\n",
       "    </tr>\n",
       "    <tr>\n",
       "      <th>21524</th>\n",
       "      <td>2706327307652496414</td>\n",
       "      <td>270.632731</td>\n",
       "      <td>65.249641</td>\n",
       "      <td>270.633601</td>\n",
       "      <td>65.249274</td>\n",
       "      <td>270.631744</td>\n",
       "      <td>65.249274</td>\n",
       "      <td>270.631744</td>\n",
       "      <td>65.250024</td>\n",
       "      <td>270.633601</td>\n",
       "      <td>...</td>\n",
       "      <td>18586.219093</td>\n",
       "      <td>9222.0</td>\n",
       "      <td>18573.0</td>\n",
       "      <td>9249.990107</td>\n",
       "      <td>18572.989315</td>\n",
       "      <td>9250.0</td>\n",
       "      <td>18600.0</td>\n",
       "      <td>9222.010687</td>\n",
       "      <td>18600.010685</td>\n",
       "      <td>100158586119142</td>\n",
       "    </tr>\n",
       "    <tr>\n",
       "      <th>21525</th>\n",
       "      <td>2705916926652498899</td>\n",
       "      <td>270.591693</td>\n",
       "      <td>65.249890</td>\n",
       "      <td>270.592333</td>\n",
       "      <td>65.249664</td>\n",
       "      <td>270.591072</td>\n",
       "      <td>65.249664</td>\n",
       "      <td>270.591072</td>\n",
       "      <td>65.250109</td>\n",
       "      <td>270.592333</td>\n",
       "      <td>...</td>\n",
       "      <td>18595.128325</td>\n",
       "      <td>9844.0</td>\n",
       "      <td>18587.0</td>\n",
       "      <td>9863.004432</td>\n",
       "      <td>18587.005086</td>\n",
       "      <td>9863.0</td>\n",
       "      <td>18603.0</td>\n",
       "      <td>9843.995887</td>\n",
       "      <td>18602.994914</td>\n",
       "      <td>100158586119163</td>\n",
       "    </tr>\n",
       "    <tr>\n",
       "      <th>21526</th>\n",
       "      <td>2703815860652499865</td>\n",
       "      <td>270.381586</td>\n",
       "      <td>65.249987</td>\n",
       "      <td>270.383006</td>\n",
       "      <td>65.249552</td>\n",
       "      <td>270.380411</td>\n",
       "      <td>65.249552</td>\n",
       "      <td>270.380411</td>\n",
       "      <td>65.250465</td>\n",
       "      <td>270.383006</td>\n",
       "      <td>...</td>\n",
       "      <td>18604.727541</td>\n",
       "      <td>12999.0</td>\n",
       "      <td>18589.0</td>\n",
       "      <td>13038.118601</td>\n",
       "      <td>18589.140674</td>\n",
       "      <td>13038.0</td>\n",
       "      <td>18622.0</td>\n",
       "      <td>12998.882749</td>\n",
       "      <td>18621.859330</td>\n",
       "      <td>100158586119180</td>\n",
       "    </tr>\n",
       "    <tr>\n",
       "      <th>21527</th>\n",
       "      <td>2705034609652510105</td>\n",
       "      <td>270.503461</td>\n",
       "      <td>65.251011</td>\n",
       "      <td>270.504684</td>\n",
       "      <td>65.250574</td>\n",
       "      <td>270.502291</td>\n",
       "      <td>65.250574</td>\n",
       "      <td>270.502291</td>\n",
       "      <td>65.251461</td>\n",
       "      <td>270.504684</td>\n",
       "      <td>...</td>\n",
       "      <td>18636.757656</td>\n",
       "      <td>11165.0</td>\n",
       "      <td>18621.0</td>\n",
       "      <td>11201.053704</td>\n",
       "      <td>18621.060061</td>\n",
       "      <td>11201.0</td>\n",
       "      <td>18653.0</td>\n",
       "      <td>11164.947505</td>\n",
       "      <td>18652.939941</td>\n",
       "      <td>100158586119269</td>\n",
       "    </tr>\n",
       "    <tr>\n",
       "      <th>21528</th>\n",
       "      <td>2701694445652514129</td>\n",
       "      <td>270.169445</td>\n",
       "      <td>65.251413</td>\n",
       "      <td>270.171199</td>\n",
       "      <td>65.250975</td>\n",
       "      <td>270.167535</td>\n",
       "      <td>65.250975</td>\n",
       "      <td>270.167535</td>\n",
       "      <td>65.251853</td>\n",
       "      <td>270.171199</td>\n",
       "      <td>...</td>\n",
       "      <td>18672.957534</td>\n",
       "      <td>16191.0</td>\n",
       "      <td>18657.0</td>\n",
       "      <td>16246.220573</td>\n",
       "      <td>18657.384440</td>\n",
       "      <td>16246.0</td>\n",
       "      <td>18689.0</td>\n",
       "      <td>16190.781259</td>\n",
       "      <td>18688.615570</td>\n",
       "      <td>100158586119322</td>\n",
       "    </tr>\n",
       "  </tbody>\n",
       "</table>\n",
       "<p>21529 rows × 28 columns</p>\n",
       "</div>"
      ],
      "text/plain": [
       "                 OBJECT_ID  RIGHT_ASCENSION  DECLINATION  CORNER_0_RA  \\\n",
       "0      2700402647647493929       270.040265    64.749393   270.040636   \n",
       "1      2700389245647500747       270.038925    64.750075   270.039253   \n",
       "2      2700398979647521630       270.039898    64.752163   270.040187   \n",
       "3      2700402039647523980       270.040204    64.752398   270.040968   \n",
       "4      2700523924647527160       270.052392    64.752716   270.052548   \n",
       "...                    ...              ...          ...          ...   \n",
       "21524  2706327307652496414       270.632731    65.249641   270.633601   \n",
       "21525  2705916926652498899       270.591693    65.249890   270.592333   \n",
       "21526  2703815860652499865       270.381586    65.249987   270.383006   \n",
       "21527  2705034609652510105       270.503461    65.251011   270.504684   \n",
       "21528  2701694445652514129       270.169445    65.251413   270.171199   \n",
       "\n",
       "       CORNER_0_DEC  CORNER_1_RA  CORNER_1_DEC  CORNER_2_RA  CORNER_2_DEC  \\\n",
       "0         64.749249   270.039913     64.749249   270.039913     64.749552   \n",
       "1         64.749966   270.038531     64.749966   270.038531     64.750241   \n",
       "2         64.752025   270.039530     64.752025   270.039530     64.752272   \n",
       "3         64.752028   270.039326     64.752028   270.039326     64.752716   \n",
       "4         64.752627   270.052219     64.752627   270.052219     64.752793   \n",
       "...             ...          ...           ...          ...           ...   \n",
       "21524     65.249274   270.631744     65.249274   270.631744     65.250024   \n",
       "21525     65.249664   270.591072     65.249664   270.591072     65.250109   \n",
       "21526     65.249552   270.380411     65.249552   270.380411     65.250465   \n",
       "21527     65.250574   270.502291     65.250574   270.502291     65.251461   \n",
       "21528     65.250975   270.167535     65.250975   270.167535     65.251853   \n",
       "\n",
       "       CORNER_3_RA  ...             y       x0       y0            x1  \\\n",
       "0       270.040636  ...    616.238573  18321.0    611.0  18332.098056   \n",
       "1       270.039253  ...    640.969566  18342.0    637.0  18353.089276   \n",
       "2       270.040187  ...    716.011175  18327.0    711.0  18337.080200   \n",
       "3       270.040968  ...    724.429730  18315.0    711.0  18340.223085   \n",
       "4       270.052548  ...    734.216032  18137.0    731.0  18142.052415   \n",
       "...            ...  ...           ...      ...      ...           ...   \n",
       "21524   270.633601  ...  18586.219093   9222.0  18573.0   9249.990107   \n",
       "21525   270.592333  ...  18595.128325   9844.0  18587.0   9863.004432   \n",
       "21526   270.383006  ...  18604.727541  12999.0  18589.0  13038.118601   \n",
       "21527   270.504684  ...  18636.757656  11165.0  18621.0  11201.053704   \n",
       "21528   270.171199  ...  18672.957534  16191.0  18657.0  16246.220573   \n",
       "\n",
       "                 y1       x2       y2            x3            y3  \\\n",
       "0        611.099566  18332.0    622.0  18320.902068    621.900435   \n",
       "1        637.099730  18353.0    647.0  18341.910838    646.900271   \n",
       "2        711.090503  18337.0    720.0  18326.919892    719.909498   \n",
       "3        711.226344  18340.0    736.0  18314.777559    735.773660   \n",
       "4        731.044363  18142.0    737.0  18136.947616    736.955637   \n",
       "...             ...      ...      ...           ...           ...   \n",
       "21524  18572.989315   9250.0  18600.0   9222.010687  18600.010685   \n",
       "21525  18587.005086   9863.0  18603.0   9843.995887  18602.994914   \n",
       "21526  18589.140674  13038.0  18622.0  12998.882749  18621.859330   \n",
       "21527  18621.060061  11201.0  18653.0  11164.947505  18652.939941   \n",
       "21528  18657.384440  16246.0  18689.0  16190.781259  18688.615570   \n",
       "\n",
       "                SEG_ID  \n",
       "0      100158586000084  \n",
       "1      100158586000086  \n",
       "2      100158586000095  \n",
       "3      100158586000096  \n",
       "4      100158586000098  \n",
       "...                ...  \n",
       "21524  100158586119142  \n",
       "21525  100158586119163  \n",
       "21526  100158586119180  \n",
       "21527  100158586119269  \n",
       "21528  100158586119322  \n",
       "\n",
       "[21529 rows x 28 columns]"
      ]
     },
     "execution_count": 20,
     "metadata": {},
     "output_type": "execute_result"
    }
   ],
   "source": [
    "catalog"
   ]
  },
  {
   "cell_type": "code",
   "execution_count": 22,
   "metadata": {},
   "outputs": [
    {
     "data": {
      "text/plain": [
       "array(['OBJECT_ID', 'RIGHT_ASCENSION', 'DECLINATION', 'CORNER_0_RA',\n",
       "       'CORNER_0_DEC', 'CORNER_1_RA', 'CORNER_1_DEC', 'CORNER_2_RA',\n",
       "       'CORNER_2_DEC', 'CORNER_3_RA', 'CORNER_3_DEC', 'SEMIMAJOR_AXIS',\n",
       "       'SEMIMINOR_AXIS', 'POSITION_ANGLE', 'PARENT_ID', 'PARENT_VISNIR',\n",
       "       'FLUX_DETECTION_TOTAL', 'x', 'y', 'x0', 'y0', 'x1', 'y1', 'x2',\n",
       "       'y2', 'x3', 'y3', 'SEG_ID'], dtype=object)"
      ]
     },
     "execution_count": 22,
     "metadata": {},
     "output_type": "execute_result"
    }
   ],
   "source": [
    "catalog.columns.values"
   ]
  },
  {
   "cell_type": "code",
   "execution_count": 23,
   "metadata": {},
   "outputs": [
    {
     "data": {
      "text/html": [
       "<div>\n",
       "<style scoped>\n",
       "    .dataframe tbody tr th:only-of-type {\n",
       "        vertical-align: middle;\n",
       "    }\n",
       "\n",
       "    .dataframe tbody tr th {\n",
       "        vertical-align: top;\n",
       "    }\n",
       "\n",
       "    .dataframe thead th {\n",
       "        text-align: right;\n",
       "    }\n",
       "</style>\n",
       "<table border=\"1\" class=\"dataframe\">\n",
       "  <thead>\n",
       "    <tr style=\"text-align: right;\">\n",
       "      <th></th>\n",
       "      <th>x0</th>\n",
       "      <th>x1</th>\n",
       "      <th>x2</th>\n",
       "      <th>x3</th>\n",
       "      <th>y0</th>\n",
       "      <th>y1</th>\n",
       "      <th>y2</th>\n",
       "      <th>y3</th>\n",
       "    </tr>\n",
       "  </thead>\n",
       "  <tbody>\n",
       "    <tr>\n",
       "      <th>0</th>\n",
       "      <td>18321.0</td>\n",
       "      <td>18332.098056</td>\n",
       "      <td>18332.0</td>\n",
       "      <td>18320.902068</td>\n",
       "      <td>611.0</td>\n",
       "      <td>611.099566</td>\n",
       "      <td>622.0</td>\n",
       "      <td>621.900435</td>\n",
       "    </tr>\n",
       "    <tr>\n",
       "      <th>1</th>\n",
       "      <td>18342.0</td>\n",
       "      <td>18353.089276</td>\n",
       "      <td>18353.0</td>\n",
       "      <td>18341.910838</td>\n",
       "      <td>637.0</td>\n",
       "      <td>637.099730</td>\n",
       "      <td>647.0</td>\n",
       "      <td>646.900271</td>\n",
       "    </tr>\n",
       "    <tr>\n",
       "      <th>2</th>\n",
       "      <td>18327.0</td>\n",
       "      <td>18337.080200</td>\n",
       "      <td>18337.0</td>\n",
       "      <td>18326.919892</td>\n",
       "      <td>711.0</td>\n",
       "      <td>711.090503</td>\n",
       "      <td>720.0</td>\n",
       "      <td>719.909498</td>\n",
       "    </tr>\n",
       "    <tr>\n",
       "      <th>3</th>\n",
       "      <td>18315.0</td>\n",
       "      <td>18340.223085</td>\n",
       "      <td>18340.0</td>\n",
       "      <td>18314.777559</td>\n",
       "      <td>711.0</td>\n",
       "      <td>711.226344</td>\n",
       "      <td>736.0</td>\n",
       "      <td>735.773660</td>\n",
       "    </tr>\n",
       "    <tr>\n",
       "      <th>4</th>\n",
       "      <td>18137.0</td>\n",
       "      <td>18142.052415</td>\n",
       "      <td>18142.0</td>\n",
       "      <td>18136.947616</td>\n",
       "      <td>731.0</td>\n",
       "      <td>731.044363</td>\n",
       "      <td>737.0</td>\n",
       "      <td>736.955637</td>\n",
       "    </tr>\n",
       "    <tr>\n",
       "      <th>...</th>\n",
       "      <td>...</td>\n",
       "      <td>...</td>\n",
       "      <td>...</td>\n",
       "      <td>...</td>\n",
       "      <td>...</td>\n",
       "      <td>...</td>\n",
       "      <td>...</td>\n",
       "      <td>...</td>\n",
       "    </tr>\n",
       "    <tr>\n",
       "      <th>21524</th>\n",
       "      <td>9222.0</td>\n",
       "      <td>9249.990107</td>\n",
       "      <td>9250.0</td>\n",
       "      <td>9222.010687</td>\n",
       "      <td>18573.0</td>\n",
       "      <td>18572.989315</td>\n",
       "      <td>18600.0</td>\n",
       "      <td>18600.010685</td>\n",
       "    </tr>\n",
       "    <tr>\n",
       "      <th>21525</th>\n",
       "      <td>9844.0</td>\n",
       "      <td>9863.004432</td>\n",
       "      <td>9863.0</td>\n",
       "      <td>9843.995887</td>\n",
       "      <td>18587.0</td>\n",
       "      <td>18587.005086</td>\n",
       "      <td>18603.0</td>\n",
       "      <td>18602.994914</td>\n",
       "    </tr>\n",
       "    <tr>\n",
       "      <th>21526</th>\n",
       "      <td>12999.0</td>\n",
       "      <td>13038.118601</td>\n",
       "      <td>13038.0</td>\n",
       "      <td>12998.882749</td>\n",
       "      <td>18589.0</td>\n",
       "      <td>18589.140674</td>\n",
       "      <td>18622.0</td>\n",
       "      <td>18621.859330</td>\n",
       "    </tr>\n",
       "    <tr>\n",
       "      <th>21527</th>\n",
       "      <td>11165.0</td>\n",
       "      <td>11201.053704</td>\n",
       "      <td>11201.0</td>\n",
       "      <td>11164.947505</td>\n",
       "      <td>18621.0</td>\n",
       "      <td>18621.060061</td>\n",
       "      <td>18653.0</td>\n",
       "      <td>18652.939941</td>\n",
       "    </tr>\n",
       "    <tr>\n",
       "      <th>21528</th>\n",
       "      <td>16191.0</td>\n",
       "      <td>16246.220573</td>\n",
       "      <td>16246.0</td>\n",
       "      <td>16190.781259</td>\n",
       "      <td>18657.0</td>\n",
       "      <td>18657.384440</td>\n",
       "      <td>18689.0</td>\n",
       "      <td>18688.615570</td>\n",
       "    </tr>\n",
       "  </tbody>\n",
       "</table>\n",
       "<p>21529 rows × 8 columns</p>\n",
       "</div>"
      ],
      "text/plain": [
       "            x0            x1       x2            x3       y0            y1  \\\n",
       "0      18321.0  18332.098056  18332.0  18320.902068    611.0    611.099566   \n",
       "1      18342.0  18353.089276  18353.0  18341.910838    637.0    637.099730   \n",
       "2      18327.0  18337.080200  18337.0  18326.919892    711.0    711.090503   \n",
       "3      18315.0  18340.223085  18340.0  18314.777559    711.0    711.226344   \n",
       "4      18137.0  18142.052415  18142.0  18136.947616    731.0    731.044363   \n",
       "...        ...           ...      ...           ...      ...           ...   \n",
       "21524   9222.0   9249.990107   9250.0   9222.010687  18573.0  18572.989315   \n",
       "21525   9844.0   9863.004432   9863.0   9843.995887  18587.0  18587.005086   \n",
       "21526  12999.0  13038.118601  13038.0  12998.882749  18589.0  18589.140674   \n",
       "21527  11165.0  11201.053704  11201.0  11164.947505  18621.0  18621.060061   \n",
       "21528  16191.0  16246.220573  16246.0  16190.781259  18657.0  18657.384440   \n",
       "\n",
       "            y2            y3  \n",
       "0        622.0    621.900435  \n",
       "1        647.0    646.900271  \n",
       "2        720.0    719.909498  \n",
       "3        736.0    735.773660  \n",
       "4        737.0    736.955637  \n",
       "...        ...           ...  \n",
       "21524  18600.0  18600.010685  \n",
       "21525  18603.0  18602.994914  \n",
       "21526  18622.0  18621.859330  \n",
       "21527  18653.0  18652.939941  \n",
       "21528  18689.0  18688.615570  \n",
       "\n",
       "[21529 rows x 8 columns]"
      ]
     },
     "execution_count": 23,
     "metadata": {},
     "output_type": "execute_result"
    }
   ],
   "source": [
    "catalog[['x0', 'x1', 'x2', 'x3', 'y0', 'y1', 'y2', 'y3']]"
   ]
  },
  {
   "cell_type": "code",
   "execution_count": 58,
   "metadata": {},
   "outputs": [
    {
     "data": {
      "text/plain": [
       "Text(0.5, 1.0, 'Corner index is defined anticlockwise from bottom-right')"
      ]
     },
     "execution_count": 58,
     "metadata": {},
     "output_type": "execute_result"
    },
    {
     "data": {
      "image/png": "[encoded data removed]",
      "text/plain": [
       "<Figure size 432x288 with 1 Axes>"
      ]
     },
     "metadata": {
      "needs_background": "light"
     },
     "output_type": "display_data"
    }
   ],
   "source": [
    "source = catalog.iloc[400]\n",
    "for i in range(4):\n",
    "    plt.scatter(source[f'x{i}'], source[f'y{i}'], label=i)\n",
    "plt.legend()\n",
    "plt.xlabel('pixel index in x')\n",
    "plt.ylabel('pixel index in y')\n",
    "plt.title('Corner index is defined anticlockwise from bottom-right')\n"
   ]
  },
  {
   "cell_type": "code",
   "execution_count": 59,
   "metadata": {},
   "outputs": [
    {
     "data": {
      "text/plain": [
       "100158586119322"
      ]
     },
     "execution_count": 59,
     "metadata": {},
     "output_type": "execute_result"
    }
   ],
   "source": [
    "seg.max()"
   ]
  },
  {
   "cell_type": "code",
   "execution_count": 60,
   "metadata": {},
   "outputs": [
    {
     "data": {
      "text/plain": [
       "(2218, 2241.5759734462918)"
      ]
     },
     "execution_count": 60,
     "metadata": {},
     "output_type": "execute_result"
    }
   ],
   "source": [
    "# test the pixel corners are indeed the max and min indices\n",
    "y_indices, x_indices = np.where(seg == source['SEG_ID'])\n",
    "y_indices.max(), source['y3']"
   ]
  },
  {
   "cell_type": "code",
   "execution_count": 61,
   "metadata": {},
   "outputs": [
    {
     "data": {
      "text/plain": [
       "(2211, 2187.999999999909)"
      ]
     },
     "execution_count": 61,
     "metadata": {},
     "output_type": "execute_result"
    }
   ],
   "source": [
    "y_indices.min(), source['y0']"
   ]
  },
  {
   "cell_type": "code",
   "execution_count": 62,
   "metadata": {},
   "outputs": [
    {
     "data": {
      "text/plain": [
       "(17308, 17331.427419980173)"
      ]
     },
     "execution_count": 62,
     "metadata": {},
     "output_type": "execute_result"
    }
   ],
   "source": [
    "x_indices.max(), source['x1']"
   ]
  },
  {
   "cell_type": "code",
   "execution_count": 63,
   "metadata": {},
   "outputs": [
    {
     "data": {
      "text/plain": [
       "(17302, 17277.99999999986)"
      ]
     },
     "execution_count": 63,
     "metadata": {},
     "output_type": "execute_result"
    }
   ],
   "source": [
    "x_indices.min(), source['x0']\n",
    "# yes, pixel indices in segmentation map found manually with np.where match coord-to-pixel indices of corners listed in catalog\n",
    "# so no need to use np.where, can just use corners directly"
   ]
  },
  {
   "cell_type": "code",
   "execution_count": 29,
   "metadata": {},
   "outputs": [],
   "source": [
    "catalog['segmap_pixel_width'] = catalog['x1'] - catalog['x0']\n",
    "catalog['segmap_pixel_height'] = catalog['y3'] - catalog['y0']"
   ]
  },
  {
   "cell_type": "code",
   "execution_count": 36,
   "metadata": {},
   "outputs": [
    {
     "data": {
      "image/png": "[encoded data removed]",
      "text/plain": [
       "<Figure size 432x288 with 1 Axes>"
      ]
     },
     "metadata": {
      "needs_background": "light"
     },
     "output_type": "display_data"
    }
   ],
   "source": [
    "_ = plt.hist(catalog['segmap_pixel_width'], range=(0, 300), bins=30)\n",
    "# _ = plt.hist(catalog['segmap_pixel_height'], range=(0, 300), bins=30)  # the same, thankfully"
   ]
  },
  {
   "cell_type": "code",
   "execution_count": 38,
   "metadata": {},
   "outputs": [
    {
     "data": {
      "image/png": "[encoded data removed]",
      "text/plain": [
       "<Figure size 432x288 with 1 Axes>"
      ]
     },
     "metadata": {
      "needs_background": "light"
     },
     "output_type": "display_data"
    }
   ],
   "source": [
    "catalog['min_pixel_extent'] = catalog[['segmap_pixel_width', 'segmap_pixel_height']].min(axis=1)\n",
    "catalog['max_pixel_extent'] = catalog[['segmap_pixel_width', 'segmap_pixel_height']].max(axis=1)\n",
    "_ = plt.hist(catalog['max_pixel_extent'], range=(0, 300), bins=30)  # this will set size of cutout (other axis will be set this big, e.g. edge-on disk)"
   ]
  },
  {
   "cell_type": "code",
   "execution_count": 46,
   "metadata": {},
   "outputs": [
    {
     "data": {
      "text/plain": [
       "2392"
      ]
     },
     "execution_count": 46,
     "metadata": {},
     "output_type": "execute_result"
    }
   ],
   "source": [
    "detailed_catalog = catalog.query('max_pixel_extent >= 75')\n",
    "# mosaic is in native pixels so this will correspond to some angular size (pixels * native pixel resolution in arcsec)\n",
    "len(detailed_catalog)"
   ]
  },
  {
   "cell_type": "code",
   "execution_count": 77,
   "metadata": {},
   "outputs": [
    {
     "name": "stderr",
     "output_type": "stream",
     "text": [
      "100%|██████████| 10/10 [00:00<00:00, 302.19it/s]\n"
     ]
    }
   ],
   "source": [
    "\n",
    "# 30 examples * 6ish cutout versions = ~180 seconds \n",
    "create_plots(image, seg, detailed_catalog, n_examples=10)"
   ]
  },
  {
   "cell_type": "code",
   "execution_count": null,
   "metadata": {},
   "outputs": [],
   "source": []
  }
 ],
 "metadata": {
  "kernelspec": {
   "display_name": "Python 3.9.13 ('astrodl')",
   "language": "python",
   "name": "python3"
  },
  "language_info": {
   "codemirror_mode": {
    "name": "ipython",
    "version": 3
   },
   "file_extension": ".py",
   "mimetype": "text/x-python",
   "name": "python",
   "nbconvert_exporter": "python",
   "pygments_lexer": "ipython3",
   "version": "3.7.11"
  },
  "orig_nbformat": 4,
  "vscode": {
   "interpreter": {
    "hash": "477d09a635aaeb7a7e6209645e64bac9255ac994af43fe54104f69ab9c61de70"
   }
  }
 },
 "nbformat": 4,
 "nbformat_minor": 2
}
