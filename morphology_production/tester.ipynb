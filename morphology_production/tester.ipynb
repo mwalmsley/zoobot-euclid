{
 "cells": [
  {
   "cell_type": "code",
   "execution_count": 1,
   "metadata": {},
   "outputs": [
    {
     "ename": "ModuleNotFoundError",
     "evalue": "No module named 'morphology_production'",
     "output_type": "error",
     "traceback": [
      "\u001b[0;31m---------------------------------------------------------------------------\u001b[0m",
      "\u001b[0;31mModuleNotFoundError\u001b[0m                       Traceback (most recent call last)",
      "\u001b[0;32m/tmp/ipykernel_393/1780614722.py\u001b[0m in \u001b[0;36m<module>\u001b[0;34m\u001b[0m\n\u001b[1;32m     11\u001b[0m \u001b[0mmatplotlib\u001b[0m\u001b[0;34m.\u001b[0m\u001b[0mrcParams\u001b[0m\u001b[0;34m.\u001b[0m\u001b[0mupdate\u001b[0m\u001b[0;34m(\u001b[0m\u001b[0;34m{\u001b[0m\u001b[0;34m'font.size'\u001b[0m\u001b[0;34m:\u001b[0m \u001b[0;36m16\u001b[0m\u001b[0;34m}\u001b[0m\u001b[0;34m)\u001b[0m\u001b[0;34m\u001b[0m\u001b[0;34m\u001b[0m\u001b[0m\n\u001b[1;32m     12\u001b[0m \u001b[0;34m\u001b[0m\u001b[0m\n\u001b[0;32m---> 13\u001b[0;31m \u001b[0;32mfrom\u001b[0m \u001b[0mmorphology_production\u001b[0m \u001b[0;32mimport\u001b[0m \u001b[0mcutouts\u001b[0m\u001b[0;34m\u001b[0m\u001b[0;34m\u001b[0m\u001b[0m\n\u001b[0m\u001b[1;32m     14\u001b[0m \u001b[0;34m\u001b[0m\u001b[0m\n\u001b[1;32m     15\u001b[0m \u001b[0;34m\u001b[0m\u001b[0m\n",
      "\u001b[0;31mModuleNotFoundError\u001b[0m: No module named 'morphology_production'"
     ]
    }
   ],
   "source": [
    "from pathlib import Path\n",
    "\n",
    "import numpy as np\n",
    "import pandas as pd\n",
    "import matplotlib.pyplot as plt\n",
    "\n",
    "from tqdm import tqdm\n",
    "from skimage import draw\n",
    "from skimage.transform import resize\n",
    "import matplotlib\n",
    "matplotlib.rcParams.update({'font.size': 16})\n",
    "\n",
    "from morphology_production import cutouts\n",
    "\n",
    "\n",
    "def create_plots(image, seg, catalog):\n",
    "    fig, ax = plt.subplots(ncols=8, nrows=30, figsize=(8 * 8, 8 * 30))\n",
    "    for i in tqdm(range(30)):\n",
    "        params = cutouts.extract_params_by_idx(catalog, np.random.randint(0, len(catalog)))\n",
    "        ref_seg = seg[int(params[2]) - 64: int(params[2]) + 64, int(params[1]) - 64: int(params[1]) + 64]\n",
    "        ref_img = image[int(params[2]) - 64: int(params[2]) + 64, int(params[1]) - 64: int(params[1]) + 64]\n",
    "        seg_cutout = cutouts.get_cut_from_idxs(seg, image, params[-1])\n",
    "        axes = params[['SEMIMAJOR_AXIS', 'SEMIMINOR_AXIS']].values\n",
    "        rows, cols = draw.ellipse(r=params[1], c=params[2], r_radius=axes[0], c_radius=axes[1], shape=seg.shape)\n",
    "        ellipse = np.zeros_like(seg)\n",
    "        ellipse[cols, rows] = 1\n",
    "        maj_cutout = cutouts.get_cut_from_idxs(ellipse, image, 1)\n",
    "        rows, cols = draw.ellipse(r=params[1], c=params[2], r_radius=3 * axes[0], c_radius=3 * axes[1], shape=seg.shape)\n",
    "        ellipse = np.zeros_like(seg)\n",
    "        ellipse[cols, rows] = 1\n",
    "        maj3_cutout = cutouts.get_cut_from_idxs(ellipse, image, 1)\n",
    "\n",
    "        seg_resized = resize(seg_cutout, output_shape=(300, 300))\n",
    "        maj_resized = resize(maj_cutout, output_shape=(300, 300))\n",
    "        maj3_resized = resize(maj3_cutout, output_shape=(300, 300))\n",
    "\n",
    "        ax[i, 0].imshow(ref_img, origin='lower', cmap='viridis')\n",
    "        if i == 0:\n",
    "            ax[i, 0].set_title('Reference Image Cutouts')\n",
    "        ax[i, 1].imshow(ref_seg, origin='lower', cmap='viridis')\n",
    "        if i == 0:\n",
    "            ax[i, 1].set_title('Reference Segmentation Cutout')\n",
    "        ax[i, 2].imshow(seg_cutout, origin='lower', cmap='viridis')\n",
    "        if i == 0:\n",
    "            ax[i, 2].set_title('Segmentation Derived Cutouts')\n",
    "        ax[i, 3].imshow(maj_cutout, origin='lower', cmap='viridis')\n",
    "        if i == 0:\n",
    "            ax[i, 3].set_title('Major Axis Derived Cutouts')\n",
    "        ax[i, 4].imshow(maj3_cutout, origin='lower', cmap='viridis')\n",
    "        if i == 0:\n",
    "            ax[i, 4].set_title('3x Major Axis Derived Cutouts')\n",
    "        ax[i, 5].imshow(seg_resized, origin='lower', cmap='viridis')\n",
    "        if i == 0:\n",
    "            ax[i, 5].set_title('Segmentation Derived Cutouts Resized')\n",
    "        ax[i, 6].imshow(maj_resized, origin='lower', cmap='viridis')\n",
    "        if i == 0:\n",
    "            ax[i, 6].set_title('Major Axis Derived Cutouts Resized')\n",
    "        ax[i, 7].imshow(maj3_resized, origin='lower', cmap='viridis')\n",
    "        if i == 0:\n",
    "            ax[i, 7].set_title('3x Major Axis Derived Cutouts Resized')\n",
    "    plt.tight_layout()\n",
    "    plt.show()\n",
    "\n"
   ]
  },
  {
   "cell_type": "code",
   "execution_count": null,
   "metadata": {},
   "outputs": [],
   "source": [
    "\n",
    "data_dir = Path('data/example_tile')\n",
    "catalog_file = data_dir / 'EUC_MER_FINAL-CUTOUTS-CAT_TILE100158586-2F9FF9_20220829T221845.491503Z_00.00.fits'\n",
    "mosaic_file = data_dir / 'EUC_MER_BGSUB-MOSAIC-VIS_TILE100158586-863FA9_20220829T190315.054985Z_00.00.fits'\n",
    "segmentation_file = data_dir / 'EUC_MER_FINAL-SEGMAP_TILE100158586-CB5786_20220829T221845.491530Z_00.00.fits'\n"
   ]
  },
  {
   "cell_type": "code",
   "execution_count": null,
   "metadata": {},
   "outputs": [],
   "source": [
    "\n",
    "\n",
    "image, seg, catalog = cutouts.preprocess_data(catalog_file, segmentation_file, mosaic_file)\n",
    "cutout = cutouts.prepare_image(image, seg, catalog, 400, mode='seg', m=1.5)\n",
    "cutout_maj = cutouts.prepare_image(image, seg, catalog, 400, mode='maj', m=1.5)\n",
    "plt.figure(figsize=(8, 8))\n",
    "plt.imshow(cutout[0, :, :, 0], origin='lower', cmap='viridis')\n",
    "plt.show()\n",
    "\n",
    "plt.figure(figsize=(8, 8))\n",
    "plt.imshow(cutout_maj[0, :, :, 0], origin='lower', cmap='viridis')\n",
    "plt.show()\n",
    "\n",
    "create_plots(image, seg, catalog)"
   ]
  }
 ],
 "metadata": {
  "kernelspec": {
   "display_name": "Python 3.9.13 ('astrodl')",
   "language": "python",
   "name": "python3"
  },
  "language_info": {
   "codemirror_mode": {
    "name": "ipython",
    "version": 3
   },
   "file_extension": ".py",
   "mimetype": "text/x-python",
   "name": "python",
   "nbconvert_exporter": "python",
   "pygments_lexer": "ipython3",
   "version": "3.7.11"
  },
  "orig_nbformat": 4,
  "vscode": {
   "interpreter": {
    "hash": "477d09a635aaeb7a7e6209645e64bac9255ac994af43fe54104f69ab9c61de70"
   }
  }
 },
 "nbformat": 4,
 "nbformat_minor": 2
}
